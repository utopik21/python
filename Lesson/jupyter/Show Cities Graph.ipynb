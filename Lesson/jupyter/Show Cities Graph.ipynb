{
 "cells": [
  {
   "cell_type": "markdown",
   "metadata": {},
   "source": [
    "## Display barGraph"
   ]
  },
  {
   "cell_type": "code",
   "execution_count": null,
   "metadata": {},
   "outputs": [],
   "source": [
    "import pandas as pd\n",
    "data_frame = pd.read_csv('villes_france.csv', low_memory=False, header=None, sep=',', skipinitialspace=False,names=['A' + str(i) for i in range(26)])\n",
    "\n",
    "# import matplotlib.pyplot as plt\n",
    "# df = pd.DataFrame(data_frame)\n",
    "# peoples = df[['A15']].values.flatten()\n",
    "# cities = df[['A4']].values.flatten()\n",
    "\n",
    "# data_frame.plot(kind='bar', x='A4')\n",
    "# data_frame.plot()\n",
    "data_frame.plot.barh()\n"
   ]
  }
 ],
 "metadata": {
  "kernelspec": {
   "display_name": "Python 3",
   "language": "python",
   "name": "python3"
  },
  "language_info": {
   "codemirror_mode": {
    "name": "ipython",
    "version": 3
   },
   "file_extension": ".py",
   "mimetype": "text/x-python",
   "name": "python",
   "nbconvert_exporter": "python",
   "pygments_lexer": "ipython3",
   "version": "3.7.4"
  }
 },
 "nbformat": 4,
 "nbformat_minor": 2
}
